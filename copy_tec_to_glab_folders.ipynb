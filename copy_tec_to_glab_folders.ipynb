{
 "cells": [
  {
   "cell_type": "code",
   "execution_count": 1,
   "metadata": {},
   "outputs": [],
   "source": [
    "import os\n",
    "import utilities.IONEX as IONX\n",
    "import glob\n",
    "import shutil"
   ]
  },
  {
   "cell_type": "code",
   "execution_count": 6,
   "metadata": {},
   "outputs": [
    {
     "data": {
      "text/plain": [
       "['gLAB\\\\files\\\\cme\\\\01_09_2019',\n",
       " 'gLAB\\\\files\\\\cme\\\\08_09_2017',\n",
       " 'gLAB\\\\files\\\\cme\\\\17_03_2015',\n",
       " 'gLAB\\\\files\\\\cme\\\\20_08_2018',\n",
       " 'gLAB\\\\files\\\\cme\\\\22_06_2015',\n",
       " 'gLAB\\\\files\\\\cme\\\\23_06_2015',\n",
       " 'gLAB\\\\files\\\\cme\\\\25_08_2018',\n",
       " 'gLAB\\\\files\\\\cme\\\\26_08_2018',\n",
       " 'gLAB\\\\files\\\\cme\\\\28_09_2017']"
      ]
     },
     "execution_count": 6,
     "metadata": {},
     "output_type": "execute_result"
    }
   ],
   "source": [
    "glab_root = 'gLAB'\n",
    "glab_files_folder = 'files'\n",
    "# event_type_folder = 'disturbance'\n",
    "# event_type_folder = 'quiet'\n",
    "event_type_folder = 'cme'\n",
    "folder_path = os.path.join(glab_root,glab_files_folder,event_type_folder)\n",
    "\n",
    "# glob.glob(folder_path)\n",
    "date_folders_list = [ f.path for f in os.scandir(folder_path) if f.is_dir() ]\n",
    "date_folders_list"
   ]
  },
  {
   "cell_type": "code",
   "execution_count": 7,
   "metadata": {},
   "outputs": [
    {
     "name": "stdout",
     "output_type": "stream",
     "text": [
      "l:\\PhD\\TEC\\ionex_c1p_rms_igr_dmd\\2019\\c1p_rms_igr_dmdg2440.19i gLAB\\files\\cme\\01_09_2019\n",
      "l:\\PhD\\TEC\\ionex_c1p_rms_igr_dmd\\2017\\c1p_rms_igr_dmdg2510.17i gLAB\\files\\cme\\08_09_2017\n",
      "l:\\PhD\\TEC\\ionex_c1p_rms_igr_dmd\\2015\\c1p_rms_igr_dmdg0760.15i gLAB\\files\\cme\\17_03_2015\n",
      "l:\\PhD\\TEC\\ionex_c1p_rms_igr_dmd\\2018\\c1p_rms_igr_dmdg2320.18i gLAB\\files\\cme\\20_08_2018\n",
      "l:\\PhD\\TEC\\ionex_c1p_rms_igr_dmd\\2015\\c1p_rms_igr_dmdg1730.15i gLAB\\files\\cme\\22_06_2015\n",
      "l:\\PhD\\TEC\\ionex_c1p_rms_igr_dmd\\2015\\c1p_rms_igr_dmdg1740.15i gLAB\\files\\cme\\23_06_2015\n",
      "l:\\PhD\\TEC\\ionex_c1p_rms_igr_dmd\\2018\\c1p_rms_igr_dmdg2370.18i gLAB\\files\\cme\\25_08_2018\n",
      "l:\\PhD\\TEC\\ionex_c1p_rms_igr_dmd\\2018\\c1p_rms_igr_dmdg2380.18i gLAB\\files\\cme\\26_08_2018\n",
      "l:\\PhD\\TEC\\ionex_c1p_rms_igr_dmd\\2017\\c1p_rms_igr_dmdg2710.17i gLAB\\files\\cme\\28_09_2017\n"
     ]
    }
   ],
   "source": [
    "\n",
    "# ionex_sources_to_copy = ['esr','jpr','whr']\n",
    "# ionex_sources_to_copy = ['c1p_rms_igs_dmd']\n",
    "ionex_sources_to_copy = ['c1p_rms_igr_dmd']\n",
    "# ionex_sources_to_copy = ['ionex_'+a for a in ionex_sources_to_copy]\n",
    "path_to_ionex_files = []\n",
    "\n",
    "day_month_year_of_ionex_file = [f.split(os.sep)[-1] for f in date_folders_list]\n",
    "day_month_year_of_ionex_file = [(int(f.split('_')[0]),int(f.split('_')[1]),int(f.split('_')[2])) for f in day_month_year_of_ionex_file]\n",
    "\n",
    "for (d,m,y),dest_folder in zip(day_month_year_of_ionex_file,date_folders_list):\n",
    "\n",
    "    day_number = str(IONX.date_to_year_day_number(y,m,d)*10)\n",
    "    day_number = day_number if len(day_number) > 3 else '0'+day_number\n",
    "\n",
    "    for ionex_source in ionex_sources_to_copy:\n",
    "\n",
    "        ionex_file_name = '{}g{}.{}i'.format(ionex_source,day_number,y%1000)\n",
    "\n",
    "        ionex_file_path = os.path.join(os.path.abspath(os.curdir),'ionex_{}'.format(ionex_source),str(y),ionex_file_name)\n",
    "        shutil.copy2(ionex_file_path,dest_folder)\n",
    "        print(ionex_file_path,dest_folder)"
   ]
  },
  {
   "cell_type": "code",
   "execution_count": null,
   "metadata": {},
   "outputs": [],
   "source": []
  }
 ],
 "metadata": {
  "kernelspec": {
   "display_name": "phd37",
   "language": "python",
   "name": "python3"
  },
  "language_info": {
   "codemirror_mode": {
    "name": "ipython",
    "version": 3
   },
   "file_extension": ".py",
   "mimetype": "text/x-python",
   "name": "python",
   "nbconvert_exporter": "python",
   "pygments_lexer": "ipython3",
   "version": "3.7.11"
  },
  "orig_nbformat": 4,
  "vscode": {
   "interpreter": {
    "hash": "115e650988dc93bf11f6f5d839c6fc7aff03dd034140ae7ebeec37e8d387a50b"
   }
  }
 },
 "nbformat": 4,
 "nbformat_minor": 2
}
