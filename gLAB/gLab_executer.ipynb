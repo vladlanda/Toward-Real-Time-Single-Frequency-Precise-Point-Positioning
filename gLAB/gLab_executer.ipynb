{
 "cells": [
  {
   "cell_type": "code",
   "execution_count": 1,
   "metadata": {},
   "outputs": [
    {
     "data": {
      "text/plain": [
       "'l:\\\\PhD\\\\TEC\\\\gLAB'"
      ]
     },
     "execution_count": 1,
     "metadata": {},
     "output_type": "execute_result"
    }
   ],
   "source": [
    "import os\n",
    "import glob\n",
    "import json\n",
    "import subprocess\n",
    "import platform\n",
    "\n",
    "os.path.abspath(os.curdir)"
   ]
  },
  {
   "cell_type": "code",
   "execution_count": 6,
   "metadata": {},
   "outputs": [
    {
     "data": {
      "text/plain": [
       "(['l:\\\\PhD\\\\TEC\\\\gLAB\\\\files\\\\cme\\\\01_09_2019',\n",
       "  'l:\\\\PhD\\\\TEC\\\\gLAB\\\\files\\\\cme\\\\08_09_2017',\n",
       "  'l:\\\\PhD\\\\TEC\\\\gLAB\\\\files\\\\cme\\\\17_03_2015',\n",
       "  'l:\\\\PhD\\\\TEC\\\\gLAB\\\\files\\\\cme\\\\20_08_2018',\n",
       "  'l:\\\\PhD\\\\TEC\\\\gLAB\\\\files\\\\cme\\\\22_06_2015',\n",
       "  'l:\\\\PhD\\\\TEC\\\\gLAB\\\\files\\\\cme\\\\23_06_2015',\n",
       "  'l:\\\\PhD\\\\TEC\\\\gLAB\\\\files\\\\cme\\\\25_08_2018',\n",
       "  'l:\\\\PhD\\\\TEC\\\\gLAB\\\\files\\\\cme\\\\26_08_2018',\n",
       "  'l:\\\\PhD\\\\TEC\\\\gLAB\\\\files\\\\cme\\\\28_09_2017'],\n",
       " {'-input:obs': ['.14o', '.15o', '.17o', '.18o', '.19o'],\n",
       "  '-input:orb': ['.sp3'],\n",
       "  '-input:clk': ['.clk_30s']})"
      ]
     },
     "execution_count": 6,
     "metadata": {},
     "output_type": "execute_result"
    }
   ],
   "source": [
    "# days_type = 'quiet'\n",
    "# days_type = 'disturbance'\n",
    "days_type = 'cme'\n",
    "# tec_source_dict = {'key': '-input:inx', 'extension':'.14i','types':{'igs':'igsg','c1p':'c1pg','klobuchar':'ckm','dmd':'dmd_','dmdc_72h_2h_shift':'dmdc_','c1p_rms':'_rms','igs_no_rms':'_norms'}}\n",
    "# tec_source_dict = {'key': '-input:inx', 'extension':'.14i','types':{'igs':'igsg','c1p':'c1pg','c1p_dmd_igs_rms':'igs_dmd_rms','c1p_dmd_igr_rms':'igr_dmd_rms'}}\n",
    "tec_source_dict = {'key': '-input:inx', 'extension':['.14i','.15i','.17i','.18i','.19i'],'types':\n",
    "                    {'igs':'igsg',\n",
    "                    'c1p':'c1pg',\n",
    "                    'klobuchar':'ckm',\n",
    "                    'whu_rapid':'whr',\n",
    "                    'jpl_rapid':'jpr',\n",
    "                    'esa_rapid':'esr'\n",
    "                    ,'c1p_rms_pred_igs':'c1p_rms_igs_dmd'\n",
    "                    ,'c1p_rms_pred_igr':'c1p_rms_igr_dmd'\n",
    "                    }\n",
    "                    }\n",
    "\n",
    "\n",
    "# glab_inupt_files_dict = {'-input:obs': '.14o','-input:orb': '.sp3','-input:clk': '.clk_30s'}\n",
    "glab_inupt_files_dict = {'-input:obs': [o.replace('i','o') for o in tec_source_dict['extension']],'-input:orb': ['.sp3'],'-input:clk': ['.clk_30s']}\n",
    "glab_output_file_dict = {'-output:file': ''}\n",
    "\n",
    "input_root_folder = os.path.join(os.path.abspath(os.curdir),'files',days_type)\n",
    "output_root_folder = os.path.join(os.path.abspath(os.curdir),'outputs',days_type)\n",
    "input_folders = [f for f in glob.glob(os.path.join(input_root_folder,'*')) if os.path.isdir(f)]\n",
    "\n",
    "SPP_josn_file = 'SPP_config.json'\n",
    "SPP_config_file = 'tmp_config.cfg'\n",
    "gLab_run_file = 'gLab_run.bat'\n",
    "if platform.system() == 'Darwin':\n",
    "    gLab_run_file = 'gLab_run.sh'\n",
    "gLab_run_file = os.path.join(os.path.abspath(os.curdir),gLab_run_file)\n",
    "SPP_dict = {}\n",
    "with open(SPP_josn_file) as f:\n",
    "    SPP_dict = json.load(f)\n",
    "\n",
    "# SPP_dict\n",
    "input_folders,glab_inupt_files_dict"
   ]
  },
  {
   "cell_type": "code",
   "execution_count": null,
   "metadata": {},
   "outputs": [],
   "source": []
  },
  {
   "cell_type": "code",
   "execution_count": 7,
   "metadata": {},
   "outputs": [
    {
     "name": "stdout",
     "output_type": "stream",
     "text": [
      "l:\\PhD\\TEC\\gLAB\\gLab_run.bat\n",
      "l:\\PhD\\TEC\\gLAB\\gLab_run.bat\n",
      "l:\\PhD\\TEC\\gLAB\\gLab_run.bat\n",
      "l:\\PhD\\TEC\\gLAB\\gLab_run.bat\n",
      "l:\\PhD\\TEC\\gLAB\\gLab_run.bat\n",
      "l:\\PhD\\TEC\\gLAB\\gLab_run.bat\n",
      "l:\\PhD\\TEC\\gLAB\\gLab_run.bat\n",
      "l:\\PhD\\TEC\\gLAB\\gLab_run.bat\n",
      "l:\\PhD\\TEC\\gLAB\\gLab_run.bat\n",
      "l:\\PhD\\TEC\\gLAB\\gLab_run.bat\n",
      "l:\\PhD\\TEC\\gLAB\\gLab_run.bat\n",
      "l:\\PhD\\TEC\\gLAB\\gLab_run.bat\n",
      "l:\\PhD\\TEC\\gLAB\\gLab_run.bat\n",
      "l:\\PhD\\TEC\\gLAB\\gLab_run.bat\n",
      "l:\\PhD\\TEC\\gLAB\\gLab_run.bat\n",
      "l:\\PhD\\TEC\\gLAB\\gLab_run.bat\n",
      "l:\\PhD\\TEC\\gLAB\\gLab_run.bat\n",
      "l:\\PhD\\TEC\\gLAB\\gLab_run.bat\n",
      "l:\\PhD\\TEC\\gLAB\\gLab_run.bat\n",
      "l:\\PhD\\TEC\\gLAB\\gLab_run.bat\n",
      "l:\\PhD\\TEC\\gLAB\\gLab_run.bat\n",
      "l:\\PhD\\TEC\\gLAB\\gLab_run.bat\n",
      "l:\\PhD\\TEC\\gLAB\\gLab_run.bat\n",
      "l:\\PhD\\TEC\\gLAB\\gLab_run.bat\n",
      "l:\\PhD\\TEC\\gLAB\\gLab_run.bat\n",
      "l:\\PhD\\TEC\\gLAB\\gLab_run.bat\n",
      "l:\\PhD\\TEC\\gLAB\\gLab_run.bat\n",
      "l:\\PhD\\TEC\\gLAB\\gLab_run.bat\n",
      "l:\\PhD\\TEC\\gLAB\\gLab_run.bat\n",
      "l:\\PhD\\TEC\\gLAB\\gLab_run.bat\n",
      "l:\\PhD\\TEC\\gLAB\\gLab_run.bat\n",
      "l:\\PhD\\TEC\\gLAB\\gLab_run.bat\n",
      "l:\\PhD\\TEC\\gLAB\\gLab_run.bat\n",
      "l:\\PhD\\TEC\\gLAB\\gLab_run.bat\n",
      "l:\\PhD\\TEC\\gLAB\\gLab_run.bat\n",
      "l:\\PhD\\TEC\\gLAB\\gLab_run.bat\n",
      "l:\\PhD\\TEC\\gLAB\\gLab_run.bat\n",
      "l:\\PhD\\TEC\\gLAB\\gLab_run.bat\n",
      "l:\\PhD\\TEC\\gLAB\\gLab_run.bat\n",
      "l:\\PhD\\TEC\\gLAB\\gLab_run.bat\n",
      "l:\\PhD\\TEC\\gLAB\\gLab_run.bat\n",
      "l:\\PhD\\TEC\\gLAB\\gLab_run.bat\n",
      "l:\\PhD\\TEC\\gLAB\\gLab_run.bat\n",
      "l:\\PhD\\TEC\\gLAB\\gLab_run.bat\n",
      "l:\\PhD\\TEC\\gLAB\\gLab_run.bat\n",
      "l:\\PhD\\TEC\\gLAB\\gLab_run.bat\n",
      "l:\\PhD\\TEC\\gLAB\\gLab_run.bat\n",
      "l:\\PhD\\TEC\\gLAB\\gLab_run.bat\n",
      "l:\\PhD\\TEC\\gLAB\\gLab_run.bat\n",
      "l:\\PhD\\TEC\\gLAB\\gLab_run.bat\n",
      "l:\\PhD\\TEC\\gLAB\\gLab_run.bat\n",
      "l:\\PhD\\TEC\\gLAB\\gLab_run.bat\n",
      "l:\\PhD\\TEC\\gLAB\\gLab_run.bat\n",
      "l:\\PhD\\TEC\\gLAB\\gLab_run.bat\n",
      "l:\\PhD\\TEC\\gLAB\\gLab_run.bat\n",
      "l:\\PhD\\TEC\\gLAB\\gLab_run.bat\n",
      "l:\\PhD\\TEC\\gLAB\\gLab_run.bat\n",
      "l:\\PhD\\TEC\\gLAB\\gLab_run.bat\n",
      "l:\\PhD\\TEC\\gLAB\\gLab_run.bat\n",
      "l:\\PhD\\TEC\\gLAB\\gLab_run.bat\n",
      "l:\\PhD\\TEC\\gLAB\\gLab_run.bat\n",
      "l:\\PhD\\TEC\\gLAB\\gLab_run.bat\n",
      "l:\\PhD\\TEC\\gLAB\\gLab_run.bat\n",
      "l:\\PhD\\TEC\\gLAB\\gLab_run.bat\n",
      "l:\\PhD\\TEC\\gLAB\\gLab_run.bat\n",
      "l:\\PhD\\TEC\\gLAB\\gLab_run.bat\n",
      "l:\\PhD\\TEC\\gLAB\\gLab_run.bat\n",
      "l:\\PhD\\TEC\\gLAB\\gLab_run.bat\n",
      "l:\\PhD\\TEC\\gLAB\\gLab_run.bat\n",
      "l:\\PhD\\TEC\\gLAB\\gLab_run.bat\n",
      "l:\\PhD\\TEC\\gLAB\\gLab_run.bat\n",
      "l:\\PhD\\TEC\\gLAB\\gLab_run.bat\n"
     ]
    }
   ],
   "source": [
    "def write_dict_to_file(file_path,data_dict):\n",
    "    f = open(file_path,'w')\n",
    "    for k,v in data_dict.items():\n",
    "        str_to_write = '{} {}\\r\\n'.format(k,v)\n",
    "        f.write(str_to_write)\n",
    "    f.close()\n",
    "\n",
    "\n",
    "for input_folder in input_folders:\n",
    "# input_folder = input_folders[0]\n",
    "    date_string = input_folder.split(os.sep)[-1]\n",
    "    files_list = glob.glob(os.path.join(input_folder,'*.*'))\n",
    "\n",
    "    for key,val in glab_inupt_files_dict.items():\n",
    "        # glab_files = [f for f in files_list if val in f]\n",
    "        glab_files = [f for f in files_list for e in val if e in f]\n",
    "        # print(key,val,glab_files)\n",
    "        SPP_dict[key] = glab_files[0]\n",
    "\n",
    "    ionex_files = [f for f in files_list for e in tec_source_dict['extension'] if e in f]\n",
    "    for key,val in tec_source_dict['types'].items():\n",
    "        ionex_file = [f for f in files_list if val in f]\n",
    "        # print(key,val,ionex_file,files_list)        \n",
    "        try:\n",
    "            SPP_dict[tec_source_dict['key']] = ionex_file[0]\n",
    "            glab_output_file = os.path.join(output_root_folder,'gLAB_{}_{}.out'.format(date_string,key))\n",
    "            SPP_dict['-output:file'] = glab_output_file\n",
    "            \n",
    "            print(gLab_run_file)\n",
    "            write_dict_to_file(SPP_config_file,SPP_dict)\n",
    "            \n",
    "            # if platform.system() == 'Darwin': subprocess.call([r'xattr -d com.apple.quarantine {}'.format(gLab_run_file)])\n",
    "            #https://www.alansiu.net/2021/08/19/troubleshooting-zsh-operation-not-permitted/\n",
    "            subprocess.call([r'{}'.format(gLab_run_file)])\n",
    "            # subprocess.call([r'gLAB_mac -input:cfg ./tmp_config.cfg'])\n",
    "            # subprocess.call(['sh',r'{}'.format(gLab_run_file)])\n",
    "        except Exception as e:\n",
    "            print(e)\n",
    "            continue"
   ]
  },
  {
   "cell_type": "code",
   "execution_count": null,
   "metadata": {},
   "outputs": [],
   "source": []
  }
 ],
 "metadata": {
  "kernelspec": {
   "display_name": "phd37",
   "language": "python",
   "name": "python3"
  },
  "language_info": {
   "codemirror_mode": {
    "name": "ipython",
    "version": 3
   },
   "file_extension": ".py",
   "mimetype": "text/x-python",
   "name": "python",
   "nbconvert_exporter": "python",
   "pygments_lexer": "ipython3",
   "version": "3.7.11"
  },
  "orig_nbformat": 4,
  "vscode": {
   "interpreter": {
    "hash": "115e650988dc93bf11f6f5d839c6fc7aff03dd034140ae7ebeec37e8d387a50b"
   }
  }
 },
 "nbformat": 4,
 "nbformat_minor": 2
}
